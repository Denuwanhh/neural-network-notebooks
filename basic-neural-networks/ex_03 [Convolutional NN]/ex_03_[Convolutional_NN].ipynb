{
 "cells": [
  {
   "cell_type": "code",
   "execution_count": 1,
   "metadata": {
    "id": "gWn00CciMf2U"
   },
   "outputs": [],
   "source": [
    "#Import libraries\n",
    "import tensorflow as tf\n",
    "from keras.preprocessing.image import ImageDataGenerator"
   ]
  },
  {
   "cell_type": "code",
   "execution_count": 2,
   "metadata": {
    "colab": {
     "base_uri": "https://localhost:8080/",
     "height": 35
    },
    "id": "MtLMixuCPISj",
    "outputId": "84c6320b-07ab-4212-8614-94c22524248d"
   },
   "outputs": [
    {
     "data": {
      "text/plain": [
       "'2.4.0'"
      ]
     },
     "execution_count": 2,
     "metadata": {},
     "output_type": "execute_result"
    }
   ],
   "source": [
    "#Check the TF version\n",
    "tf.__version__"
   ]
  },
  {
   "cell_type": "code",
   "execution_count": 3,
   "metadata": {
    "id": "Y3nzONnnPP8o"
   },
   "outputs": [
    {
     "name": "stdout",
     "output_type": "stream",
     "text": [
      "Found 8000 images belonging to 2 classes.\n"
     ]
    }
   ],
   "source": [
    "#Data Preprocessing : Inorder to avoide overfit the model\n",
    "#Note: rescale=1./255 - for feature scaling\n",
    "train_datagen = ImageDataGenerator(\n",
    "        rescale=1./255,\n",
    "        shear_range=0.2,\n",
    "        zoom_range=0.2,\n",
    "        horizontal_flip=True)\n",
    "\n",
    "#Note: class_mode='binary' due to two classes dog/cat, categorical if we use more than two classes\n",
    "training_set = train_datagen.flow_from_directory(\n",
    "        'D:\\\\Training Data Set\\\\Section 40 - Convolutional Neural Networks (CNN)\\\\dataset\\\\training_set',\n",
    "        target_size=(64, 64),\n",
    "        batch_size=32,\n",
    "        class_mode='binary')"
   ]
  },
  {
   "cell_type": "code",
   "execution_count": 4,
   "metadata": {},
   "outputs": [
    {
     "name": "stdout",
     "output_type": "stream",
     "text": [
      "2\n"
     ]
    }
   ],
   "source": [
    "#print(training_set)\n",
    "#print(training_set[0][0][0][0][0][0])\n",
    "print(len(training_set[0]))"
   ]
  },
  {
   "cell_type": "code",
   "execution_count": 5,
   "metadata": {
    "id": "F0i7l0_MtezQ"
   },
   "outputs": [
    {
     "name": "stdout",
     "output_type": "stream",
     "text": [
      "Found 2000 images belonging to 2 classes.\n"
     ]
    }
   ],
   "source": [
    "#Data Preprocessing : For test data set (Use images as it is, only change is feature scaling)\n",
    "test_datagen = ImageDataGenerator(rescale=1./255)\n",
    "\n",
    "test_set = test_datagen.flow_from_directory(\n",
    "        'D:\\\\Training Data Set\\\\Section 40 - Convolutional Neural Networks (CNN)\\\\dataset\\\\test_set',\n",
    "        target_size=(64, 64),\n",
    "        batch_size=32,\n",
    "        class_mode='binary')"
   ]
  },
  {
   "cell_type": "code",
   "execution_count": 6,
   "metadata": {
    "id": "86THFGItuu4J"
   },
   "outputs": [],
   "source": [
    "#Building CNN\n",
    "cnn = tf.keras.models.Sequential()\n",
    "\n",
    "#Convolution\n",
    "cnn.add(tf.keras.layers.Conv2D(filters=32, kernel_size=3, activation='relu', input_shape=[64, 64, 3]))\n",
    "\n",
    "#Pooling\n",
    "cnn.add(tf.keras.layers.MaxPool2D(pool_size=2, strides=2))\n",
    "\n",
    "#Add second convolutional layer\n",
    "cnn.add(tf.keras.layers.Conv2D(filters=32, kernel_size=3, activation='relu'))\n",
    "cnn.add(tf.keras.layers.MaxPool2D(pool_size=2, strides=2))\n",
    "\n",
    "#Flattening\n",
    "cnn.add(tf.keras.layers.Flatten())\n",
    "\n",
    "#Full Connection\n",
    "cnn.add(tf.keras.layers.Dense(units=128, activation='relu'))\n",
    "\n",
    "#Output Layer\n",
    "cnn.add(tf.keras.layers.Dense(units=1, activation='sigmoid'))"
   ]
  },
  {
   "cell_type": "code",
   "execution_count": 7,
   "metadata": {
    "id": "DXrhV3I-1vCz",
    "scrolled": true
   },
   "outputs": [
    {
     "name": "stdout",
     "output_type": "stream",
     "text": [
      "Epoch 1/25\n",
      "250/250 [==============================] - 880s 3s/step - loss: 0.6977 - accuracy: 0.5321 - val_loss: 0.6247 - val_accuracy: 0.6630\n",
      "Epoch 2/25\n",
      "250/250 [==============================] - 36s 144ms/step - loss: 0.6178 - accuracy: 0.6602 - val_loss: 0.6008 - val_accuracy: 0.6805\n",
      "Epoch 3/25\n",
      "250/250 [==============================] - 30s 118ms/step - loss: 0.5794 - accuracy: 0.6943 - val_loss: 0.5700 - val_accuracy: 0.7125\n",
      "Epoch 4/25\n",
      "250/250 [==============================] - 32s 126ms/step - loss: 0.5544 - accuracy: 0.7197 - val_loss: 0.5150 - val_accuracy: 0.7455\n",
      "Epoch 5/25\n",
      "250/250 [==============================] - 33s 130ms/step - loss: 0.5247 - accuracy: 0.7360 - val_loss: 0.5264 - val_accuracy: 0.7485\n",
      "Epoch 6/25\n",
      "250/250 [==============================] - 34s 135ms/step - loss: 0.5118 - accuracy: 0.7519 - val_loss: 0.5042 - val_accuracy: 0.7595\n",
      "Epoch 7/25\n",
      "250/250 [==============================] - 31s 124ms/step - loss: 0.4969 - accuracy: 0.7542 - val_loss: 0.5233 - val_accuracy: 0.7425\n",
      "Epoch 8/25\n",
      "250/250 [==============================] - 35s 139ms/step - loss: 0.4791 - accuracy: 0.7732 - val_loss: 0.5228 - val_accuracy: 0.7425\n",
      "Epoch 9/25\n",
      "250/250 [==============================] - 31s 124ms/step - loss: 0.4592 - accuracy: 0.7725 - val_loss: 0.4719 - val_accuracy: 0.7710\n",
      "Epoch 10/25\n",
      "250/250 [==============================] - 31s 124ms/step - loss: 0.4500 - accuracy: 0.7840 - val_loss: 0.4536 - val_accuracy: 0.7920\n",
      "Epoch 11/25\n",
      "250/250 [==============================] - 31s 125ms/step - loss: 0.4341 - accuracy: 0.7931 - val_loss: 0.4469 - val_accuracy: 0.7980\n",
      "Epoch 12/25\n",
      "250/250 [==============================] - 31s 124ms/step - loss: 0.4250 - accuracy: 0.8046 - val_loss: 0.4622 - val_accuracy: 0.7910\n",
      "Epoch 13/25\n",
      "250/250 [==============================] - 32s 127ms/step - loss: 0.4084 - accuracy: 0.8139 - val_loss: 0.4677 - val_accuracy: 0.7890\n",
      "Epoch 14/25\n",
      "250/250 [==============================] - 33s 133ms/step - loss: 0.4050 - accuracy: 0.8097 - val_loss: 0.4523 - val_accuracy: 0.8000\n",
      "Epoch 15/25\n",
      "250/250 [==============================] - 31s 124ms/step - loss: 0.3816 - accuracy: 0.8345 - val_loss: 0.4367 - val_accuracy: 0.8055\n",
      "Epoch 16/25\n",
      "250/250 [==============================] - 34s 135ms/step - loss: 0.3957 - accuracy: 0.8147 - val_loss: 0.4509 - val_accuracy: 0.8010\n",
      "Epoch 17/25\n",
      "250/250 [==============================] - 31s 124ms/step - loss: 0.3896 - accuracy: 0.8243 - val_loss: 0.4526 - val_accuracy: 0.8070\n",
      "Epoch 18/25\n",
      "250/250 [==============================] - 34s 138ms/step - loss: 0.3563 - accuracy: 0.8338 - val_loss: 0.4792 - val_accuracy: 0.7980\n",
      "Epoch 19/25\n",
      "250/250 [==============================] - 32s 130ms/step - loss: 0.3277 - accuracy: 0.8534 - val_loss: 0.4442 - val_accuracy: 0.8115\n",
      "Epoch 20/25\n",
      "250/250 [==============================] - 34s 137ms/step - loss: 0.3576 - accuracy: 0.8378 - val_loss: 0.4558 - val_accuracy: 0.8100\n",
      "Epoch 21/25\n",
      "250/250 [==============================] - 35s 141ms/step - loss: 0.3201 - accuracy: 0.8580 - val_loss: 0.4427 - val_accuracy: 0.8075\n",
      "Epoch 22/25\n",
      "250/250 [==============================] - 36s 142ms/step - loss: 0.3266 - accuracy: 0.8553 - val_loss: 0.4572 - val_accuracy: 0.8090\n",
      "Epoch 23/25\n",
      "250/250 [==============================] - 33s 132ms/step - loss: 0.3124 - accuracy: 0.8617 - val_loss: 0.4740 - val_accuracy: 0.8110\n",
      "Epoch 24/25\n",
      "250/250 [==============================] - 37s 149ms/step - loss: 0.2989 - accuracy: 0.8740 - val_loss: 0.4780 - val_accuracy: 0.8060\n",
      "Epoch 25/25\n",
      "250/250 [==============================] - 37s 149ms/step - loss: 0.3025 - accuracy: 0.8668 - val_loss: 0.5477 - val_accuracy: 0.7840\n"
     ]
    },
    {
     "data": {
      "text/plain": [
       "<tensorflow.python.keras.callbacks.History at 0x1f7892bde80>"
      ]
     },
     "execution_count": 7,
     "metadata": {},
     "output_type": "execute_result"
    }
   ],
   "source": [
    "#Training the CNN\n",
    "\n",
    "#Compiling the CNN\n",
    "cnn.compile(optimizer = 'adam', loss = 'binary_crossentropy', metrics = ['accuracy'])\n",
    "\n",
    "#Training the CNN           \n",
    "cnn.fit(x = training_set, validation_data = test_set, epochs = 25)"
   ]
  },
  {
   "cell_type": "code",
   "execution_count": 10,
   "metadata": {
    "id": "FjClollW5hlI"
   },
   "outputs": [
    {
     "name": "stdout",
     "output_type": "stream",
     "text": [
      "{'cats': 0, 'dogs': 1}\n",
      "1.0\n",
      "Dog\n"
     ]
    }
   ],
   "source": [
    "#Making a single prediction\n",
    "import numpy as np\n",
    "from keras.preprocessing import image\n",
    "\n",
    "#Get image and set to array\n",
    "test_image = image.load_img('D:\\\\Training Data Set\\\\Section 40 - Convolutional Neural Networks (CNN)\\\\dataset\\\\single_prediction\\\\cat_or_dog_.jpg', target_size = (64, 64))\n",
    "test_image = image.img_to_array(test_image)\n",
    "test_image = np.expand_dims(test_image, axis = 0)\n",
    "result = cnn.predict(test_image)\n",
    "print(training_set.class_indices)\n",
    "print(result[0][0])\n",
    "\n",
    "if result[0][0] == 1:\n",
    "  prediction = 'Dog'\n",
    "else:\n",
    "  prediction = 'Cat'\n",
    "\n",
    "print(prediction)"
   ]
  },
  {
   "cell_type": "code",
   "execution_count": null,
   "metadata": {},
   "outputs": [],
   "source": []
  }
 ],
 "metadata": {
  "colab": {
   "name": "ex-03 [Convolutional NN]",
   "provenance": []
  },
  "kernelspec": {
   "display_name": "Python 3",
   "language": "python",
   "name": "python3"
  },
  "language_info": {
   "codemirror_mode": {
    "name": "ipython",
    "version": 3
   },
   "file_extension": ".py",
   "mimetype": "text/x-python",
   "name": "python",
   "nbconvert_exporter": "python",
   "pygments_lexer": "ipython3",
   "version": "3.8.5"
  }
 },
 "nbformat": 4,
 "nbformat_minor": 1
}
