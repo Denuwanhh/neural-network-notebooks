{
 "cells": [
  {
   "cell_type": "code",
   "execution_count": 1,
   "metadata": {
    "id": "gWn00CciMf2U"
   },
   "outputs": [],
   "source": [
    "#Import libraries\n",
    "import tensorflow as tf\n",
    "from keras.preprocessing.image import ImageDataGenerator"
   ]
  },
  {
   "cell_type": "code",
   "execution_count": 2,
   "metadata": {
    "colab": {
     "base_uri": "https://localhost:8080/",
     "height": 35
    },
    "id": "MtLMixuCPISj",
    "outputId": "84c6320b-07ab-4212-8614-94c22524248d"
   },
   "outputs": [
    {
     "data": {
      "text/plain": [
       "'2.4.0'"
      ]
     },
     "execution_count": 2,
     "metadata": {},
     "output_type": "execute_result"
    }
   ],
   "source": [
    "#Check the TF version\n",
    "tf.__version__"
   ]
  },
  {
   "cell_type": "code",
   "execution_count": 3,
   "metadata": {
    "id": "Y3nzONnnPP8o"
   },
   "outputs": [
    {
     "name": "stdout",
     "output_type": "stream",
     "text": [
      "Found 8000 images belonging to 2 classes.\n"
     ]
    }
   ],
   "source": [
    "#Data Preprocessing : Inorder to avoide overfit the model\n",
    "#Note: rescale=1./255 - for feature scaling\n",
    "train_datagen = ImageDataGenerator(\n",
    "        rescale=1./255,\n",
    "        shear_range=0.2,\n",
    "        zoom_range=0.2,\n",
    "        horizontal_flip=True)\n",
    "\n",
    "#Note: class_mode='binary' due to two classes dog/cat, categorical if we use more than two classes\n",
    "training_set = train_datagen.flow_from_directory(\n",
    "        'dataset/training_set',\n",
    "        target_size=(64, 64),\n",
    "        batch_size=32,\n",
    "        class_mode='binary')"
   ]
  },
  {
   "cell_type": "code",
   "execution_count": 4,
   "metadata": {
    "id": "F0i7l0_MtezQ"
   },
   "outputs": [
    {
     "name": "stdout",
     "output_type": "stream",
     "text": [
      "Found 2000 images belonging to 2 classes.\n"
     ]
    }
   ],
   "source": [
    "#Data Preprocessing : For test data set (Use images as it is, only change is feature scaling)\n",
    "test_datagen = ImageDataGenerator(rescale=1./255)\n",
    "\n",
    "test_set = test_datagen.flow_from_directory(\n",
    "        'dataset/test_set',\n",
    "        target_size=(64, 64),\n",
    "        batch_size=32,\n",
    "        class_mode='binary')"
   ]
  },
  {
   "cell_type": "code",
   "execution_count": 5,
   "metadata": {
    "id": "86THFGItuu4J"
   },
   "outputs": [],
   "source": [
    "#Building CNN\n",
    "cnn = tf.keras.models.Sequential()\n",
    "\n",
    "#Convolution\n",
    "cnn.add(tf.keras.layers.Conv2D(filters=32, kernel_size=3, activation='relu', input_shape=[64, 64, 3]))\n",
    "\n",
    "#Pooling\n",
    "cnn.add(tf.keras.layers.MaxPool2D(pool_size=2, strides=2))\n",
    "\n",
    "#Add second convolutional layer\n",
    "cnn.add(tf.keras.layers.Conv2D(filters=32, kernel_size=3, activation='relu'))\n",
    "cnn.add(tf.keras.layers.MaxPool2D(pool_size=2, strides=2))\n",
    "\n",
    "#Flattening\n",
    "cnn.add(tf.keras.layers.Flatten())\n",
    "\n",
    "#Full Connection\n",
    "cnn.add(tf.keras.layers.Dense(units=128, activation='relu'))\n",
    "\n",
    "#Output Layer\n",
    "cnn.add(tf.keras.layers.Dense(units=1, activation='sigmoid'))"
   ]
  },
  {
   "cell_type": "code",
   "execution_count": 6,
   "metadata": {
    "id": "DXrhV3I-1vCz",
    "scrolled": true
   },
   "outputs": [
    {
     "name": "stdout",
     "output_type": "stream",
     "text": [
      "Epoch 1/25\n",
      "250/250 [==============================] - 211s 835ms/step - loss: 0.6908 - accuracy: 0.5551 - val_loss: 0.5838 - val_accuracy: 0.7100\n",
      "Epoch 2/25\n",
      "250/250 [==============================] - 29s 118ms/step - loss: 0.5948 - accuracy: 0.6842 - val_loss: 0.5438 - val_accuracy: 0.7240\n",
      "Epoch 3/25\n",
      "250/250 [==============================] - 29s 118ms/step - loss: 0.5421 - accuracy: 0.7180 - val_loss: 0.5127 - val_accuracy: 0.7475\n",
      "Epoch 4/25\n",
      "250/250 [==============================] - 30s 118ms/step - loss: 0.5156 - accuracy: 0.7462 - val_loss: 0.4958 - val_accuracy: 0.7565\n",
      "Epoch 5/25\n",
      "250/250 [==============================] - 30s 119ms/step - loss: 0.4840 - accuracy: 0.7683 - val_loss: 0.4834 - val_accuracy: 0.7825\n",
      "Epoch 6/25\n",
      "250/250 [==============================] - 30s 120ms/step - loss: 0.4755 - accuracy: 0.7695 - val_loss: 0.4968 - val_accuracy: 0.7600\n",
      "Epoch 7/25\n",
      "250/250 [==============================] - 31s 125ms/step - loss: 0.4723 - accuracy: 0.7712 - val_loss: 0.4720 - val_accuracy: 0.7765\n",
      "Epoch 8/25\n",
      "250/250 [==============================] - 32s 127ms/step - loss: 0.4544 - accuracy: 0.7820 - val_loss: 0.4807 - val_accuracy: 0.7770\n",
      "Epoch 9/25\n",
      "250/250 [==============================] - 34s 135ms/step - loss: 0.4350 - accuracy: 0.7916 - val_loss: 0.4937 - val_accuracy: 0.7690\n",
      "Epoch 10/25\n",
      "250/250 [==============================] - 35s 141ms/step - loss: 0.4316 - accuracy: 0.7982 - val_loss: 0.4584 - val_accuracy: 0.7935\n",
      "Epoch 11/25\n",
      "250/250 [==============================] - 32s 130ms/step - loss: 0.4002 - accuracy: 0.8217 - val_loss: 0.4576 - val_accuracy: 0.7820\n",
      "Epoch 12/25\n",
      "250/250 [==============================] - 32s 128ms/step - loss: 0.4034 - accuracy: 0.8182 - val_loss: 0.4382 - val_accuracy: 0.8000\n",
      "Epoch 13/25\n",
      "250/250 [==============================] - 33s 132ms/step - loss: 0.4023 - accuracy: 0.8121 - val_loss: 0.4507 - val_accuracy: 0.7960\n",
      "Epoch 14/25\n",
      "250/250 [==============================] - 32s 126ms/step - loss: 0.3767 - accuracy: 0.8240 - val_loss: 0.4622 - val_accuracy: 0.8025\n",
      "Epoch 15/25\n",
      "250/250 [==============================] - 31s 125ms/step - loss: 0.3644 - accuracy: 0.8343 - val_loss: 0.4239 - val_accuracy: 0.8165\n",
      "Epoch 16/25\n",
      "250/250 [==============================] - 33s 131ms/step - loss: 0.3523 - accuracy: 0.8402 - val_loss: 0.4364 - val_accuracy: 0.8120\n",
      "Epoch 17/25\n",
      "250/250 [==============================] - 32s 128ms/step - loss: 0.3459 - accuracy: 0.8489 - val_loss: 0.5747 - val_accuracy: 0.7635\n",
      "Epoch 18/25\n",
      "250/250 [==============================] - 32s 128ms/step - loss: 0.3467 - accuracy: 0.8430 - val_loss: 0.4583 - val_accuracy: 0.8015\n",
      "Epoch 19/25\n",
      "250/250 [==============================] - 31s 125ms/step - loss: 0.3302 - accuracy: 0.8560 - val_loss: 0.4589 - val_accuracy: 0.7995\n",
      "Epoch 20/25\n",
      "250/250 [==============================] - 33s 130ms/step - loss: 0.3131 - accuracy: 0.8624 - val_loss: 0.4491 - val_accuracy: 0.8115\n",
      "Epoch 21/25\n",
      "250/250 [==============================] - 32s 129ms/step - loss: 0.2960 - accuracy: 0.8721 - val_loss: 0.5031 - val_accuracy: 0.7830\n",
      "Epoch 22/25\n",
      "250/250 [==============================] - 32s 129ms/step - loss: 0.2844 - accuracy: 0.8743 - val_loss: 0.4497 - val_accuracy: 0.8110\n",
      "Epoch 23/25\n",
      "250/250 [==============================] - 32s 128ms/step - loss: 0.2877 - accuracy: 0.8775 - val_loss: 0.4562 - val_accuracy: 0.8085\n",
      "Epoch 24/25\n",
      "250/250 [==============================] - 32s 128ms/step - loss: 0.2802 - accuracy: 0.8779 - val_loss: 0.5120 - val_accuracy: 0.8005\n",
      "Epoch 25/25\n",
      "250/250 [==============================] - 32s 128ms/step - loss: 0.2644 - accuracy: 0.8884 - val_loss: 0.4858 - val_accuracy: 0.8035\n"
     ]
    },
    {
     "data": {
      "text/plain": [
       "<tensorflow.python.keras.callbacks.History at 0x241af403be0>"
      ]
     },
     "execution_count": 6,
     "metadata": {},
     "output_type": "execute_result"
    }
   ],
   "source": [
    "#Training the CNN\n",
    "\n",
    "#Compiling the CNN\n",
    "cnn.compile(optimizer = 'adam', loss = 'binary_crossentropy', metrics = ['accuracy'])\n",
    "\n",
    "#Training the CNN           \n",
    "cnn.fit(x = training_set, validation_data = test_set, epochs = 25)"
   ]
  },
  {
   "cell_type": "code",
   "execution_count": 7,
   "metadata": {
    "id": "FjClollW5hlI"
   },
   "outputs": [
    {
     "name": "stdout",
     "output_type": "stream",
     "text": [
      "{'cats': 0, 'dogs': 1}\n",
      "[[1.]]\n",
      "Dog\n"
     ]
    }
   ],
   "source": [
    "#Making a single prediction\n",
    "import numpy as np\n",
    "from keras.preprocessing import image\n",
    "\n",
    "#Get image and set to array\n",
    "test_image = image.load_img('dataset/single_prediction/cat_or_dog_1.jpg', target_size = (64, 64))\n",
    "test_image = image.img_to_array(test_image)\n",
    "test_image = np.expand_dims(test_image, axis = 0)\n",
    "result = cnn.predict(test_image)\n",
    "print(training_set.class_indices)\n",
    "print(result)\n",
    "\n",
    "if result[0][0] == 1:\n",
    "  prediction = 'Dog'\n",
    "else:\n",
    "  prediction = 'Cat'\n",
    "\n",
    "print(prediction)"
   ]
  },
  {
   "cell_type": "code",
   "execution_count": null,
   "metadata": {},
   "outputs": [],
   "source": []
  }
 ],
 "metadata": {
  "colab": {
   "name": "ex-03 [Convolutional NN]",
   "provenance": []
  },
  "kernelspec": {
   "display_name": "Python 3",
   "language": "python",
   "name": "python3"
  },
  "language_info": {
   "codemirror_mode": {
    "name": "ipython",
    "version": 3
   },
   "file_extension": ".py",
   "mimetype": "text/x-python",
   "name": "python",
   "nbconvert_exporter": "python",
   "pygments_lexer": "ipython3",
   "version": "3.8.5"
  }
 },
 "nbformat": 4,
 "nbformat_minor": 1
}
