{
  "nbformat": 4,
  "nbformat_minor": 0,
  "metadata": {
    "colab": {
      "name": "Ex-02[Regression].ipynb",
      "provenance": []
    },
    "kernelspec": {
      "name": "python3",
      "display_name": "Python 3"
    }
  },
  "cells": [
    {
      "cell_type": "code",
      "metadata": {
        "id": "dtnAuM-y9rUp"
      },
      "source": [
        "#Import Libraries \r\n",
        "import numpy as np\r\n",
        "import pandas as pd\r\n",
        "import tensorflow as tf"
      ],
      "execution_count": 2,
      "outputs": []
    },
    {
      "cell_type": "code",
      "metadata": {
        "colab": {
          "base_uri": "https://localhost:8080/",
          "height": 35
        },
        "id": "7FPfhBGKHMbq",
        "outputId": "de51fe9d-03c5-4a56-dc7b-8eb6217d55b2"
      },
      "source": [
        "#Check Tensorflow version\r\n",
        "tf.__version__"
      ],
      "execution_count": 3,
      "outputs": [
        {
          "output_type": "execute_result",
          "data": {
            "application/vnd.google.colaboratory.intrinsic+json": {
              "type": "string"
            },
            "text/plain": [
              "'2.4.0'"
            ]
          },
          "metadata": {
            "tags": []
          },
          "execution_count": 3
        }
      ]
    },
    {
      "cell_type": "code",
      "metadata": {
        "id": "uwJk7p8EHT2-"
      },
      "source": [
        "#Importing the data set [Create x: contain the independent variable, y: contain the dependent variable]\r\n",
        "dataset = pd.read_excel('Folds5x2_pp.xlsx')\r\n",
        "x = dataset.iloc[:, : -1].values\r\n",
        "y = dataset.iloc[:, -1].values"
      ],
      "execution_count": 7,
      "outputs": []
    },
    {
      "cell_type": "code",
      "metadata": {
        "colab": {
          "base_uri": "https://localhost:8080/"
        },
        "id": "ozR6H09pkeOL",
        "outputId": "e6654526-5edd-4aef-fd0c-6783dffe2d9a"
      },
      "source": [
        "print(x)"
      ],
      "execution_count": 8,
      "outputs": [
        {
          "output_type": "stream",
          "text": [
            "[[  14.96   41.76 1024.07   73.17]\n",
            " [  25.18   62.96 1020.04   59.08]\n",
            " [   5.11   39.4  1012.16   92.14]\n",
            " ...\n",
            " [  31.32   74.33 1012.92   36.48]\n",
            " [  24.48   69.45 1013.86   62.39]\n",
            " [  21.6    62.52 1017.23   67.87]]\n"
          ],
          "name": "stdout"
        }
      ]
    },
    {
      "cell_type": "code",
      "metadata": {
        "colab": {
          "base_uri": "https://localhost:8080/"
        },
        "id": "VXkevJD-k8ep",
        "outputId": "8189ed60-6e9d-461e-e5f9-7dd648d0f7a1"
      },
      "source": [
        "print(y)"
      ],
      "execution_count": 10,
      "outputs": [
        {
          "output_type": "stream",
          "text": [
            "[463.26 444.37 488.56 ... 429.57 435.74 453.28]\n"
          ],
          "name": "stdout"
        }
      ]
    },
    {
      "cell_type": "code",
      "metadata": {
        "id": "80Pe6D01lVLV"
      },
      "source": [
        "#Splitting the dataset into test and traning\r\n",
        "from sklearn.model_selection import train_test_split\r\n",
        "x_train, x_test, y_train, y_test = train_test_split(x, y, test_size = 0.2, random_state = 0)"
      ],
      "execution_count": 11,
      "outputs": []
    },
    {
      "cell_type": "code",
      "metadata": {
        "id": "-hS3gwsR0t9A"
      },
      "source": [
        "#Initializing the ANN\r\n",
        "ann = tf.keras.models.Sequential()"
      ],
      "execution_count": 12,
      "outputs": []
    },
    {
      "cell_type": "code",
      "metadata": {
        "id": "2iYC7iV72wbh"
      },
      "source": [
        "#Adding input layer and first hidden layer\r\n",
        "ann.add(tf.keras.layers.Dense(units=6, activation='relu'))\r\n",
        "\r\n",
        "#Adding second hidden layer\r\n",
        "ann.add(tf.keras.layers.Dense(units=6, activation='relu'))"
      ],
      "execution_count": 15,
      "outputs": []
    },
    {
      "cell_type": "code",
      "metadata": {
        "id": "p560Dgob553v"
      },
      "source": [
        "#Adding the output layer (No activation funtion due to expected result in real number)\r\n",
        "ann.add(tf.keras.layers.Dense(units=1))"
      ],
      "execution_count": 16,
      "outputs": []
    },
    {
      "cell_type": "code",
      "metadata": {
        "id": "RtLnMYcW7oIy"
      },
      "source": [
        "#Compiling the ANN\r\n",
        "ann.compile(optimizer='adam', loss='mean_squared_error')"
      ],
      "execution_count": 17,
      "outputs": []
    },
    {
      "cell_type": "code",
      "metadata": {
        "colab": {
          "base_uri": "https://localhost:8080/"
        },
        "id": "1NbN_3WW9I8Y",
        "outputId": "b978a484-0f49-405c-ca6a-8567d651f23a"
      },
      "source": [
        "ann.fit(x_train, y_train, batch_size = 32, epochs=100 )"
      ],
      "execution_count": 18,
      "outputs": [
        {
          "output_type": "stream",
          "text": [
            "Epoch 1/100\n",
            "240/240 [==============================] - 1s 1ms/step - loss: 77152.8638\n",
            "Epoch 2/100\n",
            "240/240 [==============================] - 0s 1ms/step - loss: 681.5402\n",
            "Epoch 3/100\n",
            "240/240 [==============================] - 0s 960us/step - loss: 644.7067\n",
            "Epoch 4/100\n",
            "240/240 [==============================] - 0s 974us/step - loss: 602.3247\n",
            "Epoch 5/100\n",
            "240/240 [==============================] - 0s 946us/step - loss: 530.4627\n",
            "Epoch 6/100\n",
            "240/240 [==============================] - 0s 1ms/step - loss: 477.9038\n",
            "Epoch 7/100\n",
            "240/240 [==============================] - 0s 997us/step - loss: 406.5600\n",
            "Epoch 8/100\n",
            "240/240 [==============================] - 0s 1ms/step - loss: 357.2554\n",
            "Epoch 9/100\n",
            "240/240 [==============================] - 0s 1ms/step - loss: 299.0484\n",
            "Epoch 10/100\n",
            "240/240 [==============================] - 0s 1ms/step - loss: 252.9316\n",
            "Epoch 11/100\n",
            "240/240 [==============================] - 0s 1ms/step - loss: 204.1961\n",
            "Epoch 12/100\n",
            "240/240 [==============================] - 0s 952us/step - loss: 161.4602\n",
            "Epoch 13/100\n",
            "240/240 [==============================] - 0s 939us/step - loss: 125.8691\n",
            "Epoch 14/100\n",
            "240/240 [==============================] - 0s 955us/step - loss: 97.1268\n",
            "Epoch 15/100\n",
            "240/240 [==============================] - 0s 979us/step - loss: 70.6865\n",
            "Epoch 16/100\n",
            "240/240 [==============================] - 0s 965us/step - loss: 53.6176\n",
            "Epoch 17/100\n",
            "240/240 [==============================] - 0s 937us/step - loss: 43.4471\n",
            "Epoch 18/100\n",
            "240/240 [==============================] - 0s 1000us/step - loss: 35.4610\n",
            "Epoch 19/100\n",
            "240/240 [==============================] - 0s 1ms/step - loss: 32.0661\n",
            "Epoch 20/100\n",
            "240/240 [==============================] - 0s 965us/step - loss: 28.9904\n",
            "Epoch 21/100\n",
            "240/240 [==============================] - 0s 1ms/step - loss: 28.0492\n",
            "Epoch 22/100\n",
            "240/240 [==============================] - 0s 1ms/step - loss: 26.8352\n",
            "Epoch 23/100\n",
            "240/240 [==============================] - 0s 1ms/step - loss: 27.7824\n",
            "Epoch 24/100\n",
            "240/240 [==============================] - 0s 975us/step - loss: 26.9801\n",
            "Epoch 25/100\n",
            "240/240 [==============================] - 0s 972us/step - loss: 27.6183\n",
            "Epoch 26/100\n",
            "240/240 [==============================] - 0s 1ms/step - loss: 26.5813\n",
            "Epoch 27/100\n",
            "240/240 [==============================] - 0s 1000us/step - loss: 28.3923\n",
            "Epoch 28/100\n",
            "240/240 [==============================] - 0s 965us/step - loss: 27.2166\n",
            "Epoch 29/100\n",
            "240/240 [==============================] - 0s 971us/step - loss: 26.6083\n",
            "Epoch 30/100\n",
            "240/240 [==============================] - 0s 982us/step - loss: 27.5098\n",
            "Epoch 31/100\n",
            "240/240 [==============================] - 0s 953us/step - loss: 29.1640\n",
            "Epoch 32/100\n",
            "240/240 [==============================] - 0s 1ms/step - loss: 26.7335\n",
            "Epoch 33/100\n",
            "240/240 [==============================] - 0s 940us/step - loss: 27.2720\n",
            "Epoch 34/100\n",
            "240/240 [==============================] - 0s 984us/step - loss: 28.6045\n",
            "Epoch 35/100\n",
            "240/240 [==============================] - 0s 1ms/step - loss: 28.1731\n",
            "Epoch 36/100\n",
            "240/240 [==============================] - 0s 1ms/step - loss: 28.0171\n",
            "Epoch 37/100\n",
            "240/240 [==============================] - 0s 968us/step - loss: 27.6924\n",
            "Epoch 38/100\n",
            "240/240 [==============================] - 0s 978us/step - loss: 28.6728\n",
            "Epoch 39/100\n",
            "240/240 [==============================] - 0s 991us/step - loss: 29.1363\n",
            "Epoch 40/100\n",
            "240/240 [==============================] - 0s 1ms/step - loss: 27.2761\n",
            "Epoch 41/100\n",
            "240/240 [==============================] - 0s 1ms/step - loss: 27.2353\n",
            "Epoch 42/100\n",
            "240/240 [==============================] - 0s 1ms/step - loss: 26.2111\n",
            "Epoch 43/100\n",
            "240/240 [==============================] - 0s 1ms/step - loss: 27.5120\n",
            "Epoch 44/100\n",
            "240/240 [==============================] - 0s 993us/step - loss: 27.6282\n",
            "Epoch 45/100\n",
            "240/240 [==============================] - 0s 949us/step - loss: 26.7018\n",
            "Epoch 46/100\n",
            "240/240 [==============================] - 0s 1ms/step - loss: 26.9715\n",
            "Epoch 47/100\n",
            "240/240 [==============================] - 0s 989us/step - loss: 28.6886\n",
            "Epoch 48/100\n",
            "240/240 [==============================] - 0s 1ms/step - loss: 26.4943\n",
            "Epoch 49/100\n",
            "240/240 [==============================] - 0s 987us/step - loss: 27.8634\n",
            "Epoch 50/100\n",
            "240/240 [==============================] - 0s 1ms/step - loss: 27.6456\n",
            "Epoch 51/100\n",
            "240/240 [==============================] - 0s 1ms/step - loss: 27.6639\n",
            "Epoch 52/100\n",
            "240/240 [==============================] - 0s 1ms/step - loss: 26.3815\n",
            "Epoch 53/100\n",
            "240/240 [==============================] - 0s 941us/step - loss: 27.8674\n",
            "Epoch 54/100\n",
            "240/240 [==============================] - 0s 993us/step - loss: 28.0754\n",
            "Epoch 55/100\n",
            "240/240 [==============================] - 0s 978us/step - loss: 27.1887\n",
            "Epoch 56/100\n",
            "240/240 [==============================] - 0s 991us/step - loss: 26.4365\n",
            "Epoch 57/100\n",
            "240/240 [==============================] - 0s 997us/step - loss: 26.5652\n",
            "Epoch 58/100\n",
            "240/240 [==============================] - 0s 1ms/step - loss: 26.5474\n",
            "Epoch 59/100\n",
            "240/240 [==============================] - 0s 960us/step - loss: 27.1449\n",
            "Epoch 60/100\n",
            "240/240 [==============================] - 0s 960us/step - loss: 27.0208\n",
            "Epoch 61/100\n",
            "240/240 [==============================] - 0s 1ms/step - loss: 27.1156\n",
            "Epoch 62/100\n",
            "240/240 [==============================] - 0s 999us/step - loss: 26.0807\n",
            "Epoch 63/100\n",
            "240/240 [==============================] - 0s 1ms/step - loss: 27.9637\n",
            "Epoch 64/100\n",
            "240/240 [==============================] - 0s 1ms/step - loss: 27.6718\n",
            "Epoch 65/100\n",
            "240/240 [==============================] - 0s 975us/step - loss: 27.2405\n",
            "Epoch 66/100\n",
            "240/240 [==============================] - 0s 1ms/step - loss: 26.8059\n",
            "Epoch 67/100\n",
            "240/240 [==============================] - 0s 1ms/step - loss: 26.8976\n",
            "Epoch 68/100\n",
            "240/240 [==============================] - 0s 993us/step - loss: 28.3716\n",
            "Epoch 69/100\n",
            "240/240 [==============================] - 0s 1ms/step - loss: 27.1288\n",
            "Epoch 70/100\n",
            "240/240 [==============================] - 0s 1ms/step - loss: 26.4220\n",
            "Epoch 71/100\n",
            "240/240 [==============================] - 0s 1ms/step - loss: 27.4521\n",
            "Epoch 72/100\n",
            "240/240 [==============================] - 0s 978us/step - loss: 29.3770\n",
            "Epoch 73/100\n",
            "240/240 [==============================] - 0s 1ms/step - loss: 27.3055\n",
            "Epoch 74/100\n",
            "240/240 [==============================] - 0s 1ms/step - loss: 26.1542\n",
            "Epoch 75/100\n",
            "240/240 [==============================] - 0s 1ms/step - loss: 26.8230\n",
            "Epoch 76/100\n",
            "240/240 [==============================] - 0s 992us/step - loss: 27.8180\n",
            "Epoch 77/100\n",
            "240/240 [==============================] - 0s 964us/step - loss: 26.2883\n",
            "Epoch 78/100\n",
            "240/240 [==============================] - 0s 975us/step - loss: 27.1179\n",
            "Epoch 79/100\n",
            "240/240 [==============================] - 0s 1ms/step - loss: 28.0191\n",
            "Epoch 80/100\n",
            "240/240 [==============================] - 0s 1ms/step - loss: 28.0196\n",
            "Epoch 81/100\n",
            "240/240 [==============================] - 0s 999us/step - loss: 29.4107\n",
            "Epoch 82/100\n",
            "240/240 [==============================] - 0s 968us/step - loss: 26.1014\n",
            "Epoch 83/100\n",
            "240/240 [==============================] - 0s 1ms/step - loss: 26.7256\n",
            "Epoch 84/100\n",
            "240/240 [==============================] - 0s 965us/step - loss: 27.2910\n",
            "Epoch 85/100\n",
            "240/240 [==============================] - 0s 1ms/step - loss: 29.3632\n",
            "Epoch 86/100\n",
            "240/240 [==============================] - 0s 996us/step - loss: 26.4992\n",
            "Epoch 87/100\n",
            "240/240 [==============================] - 0s 1ms/step - loss: 27.2572\n",
            "Epoch 88/100\n",
            "240/240 [==============================] - 0s 993us/step - loss: 27.1074\n",
            "Epoch 89/100\n",
            "240/240 [==============================] - 0s 1ms/step - loss: 27.6862\n",
            "Epoch 90/100\n",
            "240/240 [==============================] - 0s 948us/step - loss: 26.4506\n",
            "Epoch 91/100\n",
            "240/240 [==============================] - 0s 963us/step - loss: 27.7438\n",
            "Epoch 92/100\n",
            "240/240 [==============================] - 0s 1ms/step - loss: 27.7240\n",
            "Epoch 93/100\n",
            "240/240 [==============================] - 0s 962us/step - loss: 26.9310\n",
            "Epoch 94/100\n",
            "240/240 [==============================] - 0s 1ms/step - loss: 27.5722\n",
            "Epoch 95/100\n",
            "240/240 [==============================] - 0s 1ms/step - loss: 27.3415\n",
            "Epoch 96/100\n",
            "240/240 [==============================] - 0s 1ms/step - loss: 26.8883\n",
            "Epoch 97/100\n",
            "240/240 [==============================] - 0s 1ms/step - loss: 26.2706\n",
            "Epoch 98/100\n",
            "240/240 [==============================] - 0s 1ms/step - loss: 27.3535\n",
            "Epoch 99/100\n",
            "240/240 [==============================] - 0s 1ms/step - loss: 26.7817\n",
            "Epoch 100/100\n",
            "240/240 [==============================] - 0s 968us/step - loss: 27.4302\n"
          ],
          "name": "stdout"
        },
        {
          "output_type": "execute_result",
          "data": {
            "text/plain": [
              "<tensorflow.python.keras.callbacks.History at 0x7f5ec73a7898>"
            ]
          },
          "metadata": {
            "tags": []
          },
          "execution_count": 18
        }
      ]
    },
    {
      "cell_type": "code",
      "metadata": {
        "colab": {
          "base_uri": "https://localhost:8080/"
        },
        "id": "7FpYQNsb-8Hy",
        "outputId": "002082b4-7e61-41aa-8bf7-29359d1b86cc"
      },
      "source": [
        "#Prediction\r\n",
        "y_pred = ann.predict(x_test)\r\n",
        "np.set_printoptions(precision=2)\r\n",
        "print(np.concatenate((y_pred.reshape(len(y_pred), 1), y_test.reshape(len(y_test), 1)), 1))"
      ],
      "execution_count": 20,
      "outputs": [
        {
          "output_type": "stream",
          "text": [
            "[[431.39 431.23]\n",
            " [462.42 460.01]\n",
            " [465.9  461.14]\n",
            " ...\n",
            " [473.18 473.26]\n",
            " [439.88 438.  ]\n",
            " [459.14 463.28]]\n"
          ],
          "name": "stdout"
        }
      ]
    },
    {
      "cell_type": "code",
      "metadata": {
        "id": "14rxzm8dGs8A"
      },
      "source": [
        ""
      ],
      "execution_count": null,
      "outputs": []
    }
  ]
}